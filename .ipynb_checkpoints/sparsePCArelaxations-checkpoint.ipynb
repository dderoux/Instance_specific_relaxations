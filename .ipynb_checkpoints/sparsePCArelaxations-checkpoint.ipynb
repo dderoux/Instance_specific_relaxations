{
 "cells": [
  {
   "cell_type": "code",
   "execution_count": null,
   "id": "bb753b35",
   "metadata": {},
   "outputs": [],
   "source": [
    "# notebook that contains the code to compute the SDP relaxation of the sparse PCA problem\n",
    "# and its corresponding linear relaxation."
   ]
  },
  {
   "cell_type": "markdown",
   "id": "f5d11672",
   "metadata": {},
   "source": [
    "<h1>functions to compute the SDP and linear relaxation of the sparse pca problem <h1>"
   ]
  },
  {
   "cell_type": "code",
   "execution_count": null,
   "id": "39c47247",
   "metadata": {},
   "outputs": [],
   "source": []
  },
  {
   "cell_type": "markdown",
   "id": "3e0f74bc",
   "metadata": {},
   "source": [
    "<h1>Table of contents <h1>   \n",
    "    0.  Load packages, Functions.<br>"
   ]
  },
  {
   "cell_type": "code",
   "execution_count": null,
   "id": "0ea40b50",
   "metadata": {},
   "outputs": [],
   "source": []
  },
  {
   "cell_type": "markdown",
   "id": "04bf1fa2",
   "metadata": {},
   "source": [
    "<h2>0.  Load packages, Functions.<h2>"
   ]
  },
  {
   "cell_type": "code",
   "execution_count": null,
   "id": "c8dead77",
   "metadata": {},
   "outputs": [],
   "source": [
    "using Arpack,JuMP,LinearAlgebra,MosekTools"
   ]
  },
  {
   "cell_type": "code",
   "execution_count": null,
   "id": "720b919b",
   "metadata": {},
   "outputs": [],
   "source": [
    "#function to compute the sparse PCA semidefinite approximation of the matrix A\n",
    "#with target sparcity k.\n",
    "#@param: A the matrix to compute the sparse PCA\n",
    "#@param: k, the target sparcity.\n",
    "function SdpSparsePCA(A,k)\n",
    "    n = size(A)[1]\n",
    "    m = Model(Mosek.Optimizer)\n",
    "    set_silent(m)\n",
    "      @variable(m,X[1:n,1:n],PSD ) \n",
    "      @constraint(m,tr(X)==1)\n",
    "    \n",
    "      @variable(m,Y[1:n,1:n],Symmetric)  \n",
    "          @constraint(m,Y.>=X )\n",
    "           @constraint(m,Y.>=-X )\n",
    "           @constraint(m,sum(Y)<=k)\n",
    "       @objective(m,Max,tr(A*X))\n",
    "      status = optimize!(m)\n",
    "     return([value.(X),value.(Y),objective_value(m),solve_time(m)])\n",
    "end      \n",
    "\n",
    "#function to compute the linear relaxation of the semidefinite relaxation of sparse PCA of the matrix A\n",
    "#with target sparcity k.\n",
    "#@param: A the matrix to compute the sparse PCA\n",
    "#@param: k, the target sparcity.\n",
    "#function to compute the linear relaxation of the semidefinite relaxation of sparse PCA of the matrix A\n",
    "#with target sparcity k.\n",
    "#@param: A the matrix to compute the sparse PCA\n",
    "#@param: k, the target sparcity.\n",
    "function EigenRelSparsePCA(A,k)\n",
    "    n = size(A)[1]\n",
    "    m = Model(Mosek.Optimizer)\n",
    "    set_silent(m)\n",
    "      @variable(m,-1<=X[1:n,1:n]<=1,Symmetric ) \n",
    "      @constraint(m,tr(X)==1)\n",
    "      @variable(m,Y[1:n,1:n],Symmetric)  \n",
    "          @constraint(m,Y.>=X )\n",
    "           @constraint(m,Y.>=-X )\n",
    "           @constraint(m,sum(Y)<=k)\n",
    "    \n",
    "       \n",
    "    for i in 1:n\n",
    "            @constraint(m,X[i,i]>=0)\n",
    "        for j in i:n\n",
    "            @constraint(m,X[i,i]+X[j,j]-2*X[i,j]>=0)\n",
    "            @constraint(m,X[i,i]+2*X[j,j]-2*round(sqrt(2),digits=5)*X[i,j]>=0)\n",
    "        end\n",
    "    end \n",
    "    A = round.(A,digits=3)\n",
    "    \n",
    "      eigenFacto =  eigen(A)\n",
    "    eigenVectors = eigenFacto.vectors\n",
    "    rounded = round.(eigenFacto.vectors,digits=3)\n",
    "    cons = rounded.*100\n",
    "      \n",
    "       \n",
    "      for i in 1:n\n",
    "        @constraint(m,X[i,i]>=0)\n",
    "               v =  cons[:,i]\n",
    "              @constraint(m,transpose(v)*X*v >=0)\n",
    "     #   println(i)\n",
    "     #   println(sum(v))\n",
    "        end  \n",
    "    \n",
    "       @objective(m,Max,tr(A*X))\n",
    "      status = optimize!(m)\n",
    "     return([value.(X),value.(Y),objective_value(m),solve_time(m)])\n",
    "end      \n",
    "\n",
    "\n",
    "\n",
    "\n",
    "\n"
   ]
  }
 ],
 "metadata": {
  "kernelspec": {
   "display_name": "Julia 1.7.3",
   "language": "julia",
   "name": "julia-1.7"
  },
  "language_info": {
   "file_extension": ".jl",
   "mimetype": "application/julia",
   "name": "julia",
   "version": "1.7.3"
  }
 },
 "nbformat": 4,
 "nbformat_minor": 5
}
