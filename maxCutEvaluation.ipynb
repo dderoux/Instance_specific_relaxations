{
 "cells": [
  {
   "cell_type": "code",
   "execution_count": null,
   "id": "62151b6a",
   "metadata": {},
   "outputs": [],
   "source": [
    "#Notebook to evalute the quality of the linear relaxation of the SDP relaxation for \n",
    "#maxcut."
   ]
  },
  {
   "cell_type": "markdown",
   "id": "f86c6cc6",
   "metadata": {},
   "source": [
    "<h1>functions and evaluation of SDP and LP relaxation of maxcut <h1>"
   ]
  },
  {
   "cell_type": "markdown",
   "id": "fc4d34b5",
   "metadata": {},
   "source": [
    "<h1>Table of contents <h1>   \n",
    "    0. Load maxCutRelaxations notebook,functions , set seed<br>\n",
    "    1. Code for table 2: TSPLIB<br>\n",
    "    2. Code for table 3: Network repository graph<br>\n",
    "    3. Code for table 1: Erods-Renyi random instances of Mirka & Williamson <br>\n",
    "    4. Code for table 4: Quotient of chi(G) to z_gw<br>\n",
    "    5. Table for table 5: Quotient of z_sp to z_gw<br>\n",
    "    6. Code for figure 1.\n",
    "    "
   ]
  },
  {
   "cell_type": "markdown",
   "id": "168fda89",
   "metadata": {},
   "source": [
    "<h2>0. Load maxCutRelaxations notebook, set seedfunctions .<h2>"
   ]
  },
  {
   "cell_type": "code",
   "execution_count": 1,
   "id": "89f069f9",
   "metadata": {},
   "outputs": [],
   "source": [
    "using NBInclude,TSPLIB,StatsBase,Arpack,LightGraphs,LinearAlgebra,Statistics,Random,Distributions,Plots\n",
    " "
   ]
  },
  {
   "cell_type": "code",
   "execution_count": 2,
   "id": "8a4dfbe7",
   "metadata": {},
   "outputs": [
    {
     "data": {
      "text/plain": [
       "tableEigenFooling (generic function with 1 method)"
      ]
     },
     "execution_count": 2,
     "metadata": {},
     "output_type": "execute_result"
    }
   ],
   "source": [
    "@nbinclude(\"MaxCutRelaxations.ipynb\")\n"
   ]
  },
  {
   "cell_type": "code",
   "execution_count": 3,
   "id": "a36c305c",
   "metadata": {},
   "outputs": [
    {
     "data": {
      "text/plain": [
       "TaskLocalRNG()"
      ]
     },
     "execution_count": 3,
     "metadata": {},
     "output_type": "execute_result"
    }
   ],
   "source": [
    "Random.seed!(12341234)"
   ]
  },
  {
   "cell_type": "markdown",
   "id": "7de0c32c",
   "metadata": {},
   "source": [
    "<h3>Functions  <h3>"
   ]
  },
  {
   "cell_type": "code",
   "execution_count": null,
   "id": "61a20db4",
   "metadata": {},
   "outputs": [],
   "source": [
    "#function that computes a cut by solving the linear programs Z_sp and then Z_sd, by using the \n",
    "#rounding procedure of Goemans and Williamson. Once\n",
    "#the matrix Z_sd is found, we produce 100 random cuts and present the best. \n",
    "#@param matrix adjMatrix: a matrix for which to compute a cut. \n",
    "function giveFoundCutValue(adjMatrix)\n",
    "    sizeOfProblem = size(adjMatrix,1)\n",
    "    solveEigenRel = eigenRelaxation(adjMatrix, giveEigenRelParameters(adjMatrix,false))[1]\n",
    "    A = SDeigenEnhanced(adjMatrix,solveEigenRel)[1]\n",
    "     #make sure we got a positive-definite result\n",
    "    # A = 0.5 * (cutFinder + cutFinder')\n",
    "    A += (max(0, -eigmin(A)) + 1e-14) * Matrix(I, size(A, 1), size(A, 1))\n",
    "    result = Matrix(cholesky(A))\n",
    "    max_cut = -1\n",
    "     for i in 1:100\n",
    "    gweval = result' * randn(sizeOfProblem)\n",
    "    partition = (findall(gweval .>= 0), findall(gweval .< 0))\n",
    "    cut = sum(adjMatrix[partition...])\n",
    "       if cut > max_cut\n",
    "      max_cut = cut\n",
    "      end\n",
    "   end\n",
    "    return(max_cut)\n",
    "end"
   ]
  },
  {
   "cell_type": "code",
   "execution_count": null,
   "id": "7c9e7d69",
   "metadata": {},
   "outputs": [],
   "source": [
    "#function that returns the value of the quotients 0.5m+0.25Z_sp / 0.5m+0.25GW, 0.5m+0.25Z_sp/0.5m+0.25Z_sd and the value\n",
    "#of the cut given by the function giveFoundCutValue.\n",
    "#@param matrix adjMatrix: the matrix for which to compute these values.\n",
    "function giveQuotientAndCut(adjMatrix)\n",
    "    \n",
    "      eigenSol = eigenRelaxation(adjMatrix, giveEigenRelParameters(adjMatrix,false))\n",
    "         goeSol = GoemansPrimal(adjMatrix)[2]\n",
    "         sdeigenSol = SDeigen(adjMatrix)\n",
    "    \n",
    "    return((eigenSol[2]/goeSol,eigenSol[2]/sdeigenSol[2] , giveFoundCutValue(adjMatrix)))\n",
    "    end"
   ]
  },
  {
   "cell_type": "code",
   "execution_count": null,
   "id": "12cd9f19",
   "metadata": {},
   "outputs": [],
   "source": [
    "#function to load the graphs of the Network Repository, given in a .txt file \n",
    "# whose rows are of the form a b, indicating an edge between vertices a and b.\n",
    "# The first two lines are irrelavant.\n",
    "#one of the graphs has weights  (in a third column) and must be dealt separately. \n",
    "#@param string fileAdress the path of the file to read.\n",
    "#@param int graphSize the dimensions of the graph to load.\n",
    "#@param bool isWeighted: indicates if the edges of the graph have weights.\n",
    "function loadGraph(fileAdress,graphSize,isWeighted)\n",
    "    adjMatrix = zeros(graphSize,graphSize)\n",
    "    if(isWeighted == false)\n",
    "         open(fileAdress) do file   \n",
    "             for ln in eachline(file)\n",
    "             values = split(ln,\" \")\n",
    "             value1 = parse(Int64,values[1])\n",
    "             value2 =  parse(Int64,values[2])     \n",
    "             adjMatrix[value1,value2] = 1\n",
    "            adjMatrix[value2,value1] = 1\n",
    "            end\n",
    "        end\n",
    "    \n",
    "    else\n",
    "        open(fileAdress) do file   \n",
    "              for ln in eachline(file)\n",
    "             values = split(ln,\" \")\n",
    "             value1 = parse(Int64,values[1])\n",
    "             value2 =  parse(Int64,values[2])\n",
    "             value3 =   parse(Float64,values[3])\n",
    "             adjMatrix[value1,value2] = value3\n",
    "            adjMatrix[value2,value1] = value3\n",
    "            end\n",
    "        end\n",
    "    end\n",
    "    \n",
    "     # check symmetry\n",
    "    issymmetric(adjMatrix)|| throw(ArgumentError(\"Adjacency matrix must be symmetric.\"))\n",
    "    return(adjMatrix)\n",
    "end\n",
    "  \n",
    "    \n",
    "    "
   ]
  },
  {
   "cell_type": "code",
   "execution_count": null,
   "id": "0801fb88",
   "metadata": {},
   "outputs": [],
   "source": []
  },
  {
   "cell_type": "markdown",
   "id": "559dabb5",
   "metadata": {},
   "source": [
    "<h2> 1. Code for table 2: TSPLIB<h2>"
   ]
  },
  {
   "cell_type": "code",
   "execution_count": null,
   "id": "2a9651a5",
   "metadata": {},
   "outputs": [],
   "source": [
    "#These graphs can be found in the following link: \n",
    "#https://juliahub.com/ui/Packages/TSPLIB/qDJ8z/0.1.2"
   ]
  },
  {
   "cell_type": "markdown",
   "id": "aa897c79",
   "metadata": {},
   "source": [
    "<h2>bayg29<h2>"
   ]
  },
  {
   "cell_type": "code",
   "execution_count": null,
   "id": "5a15d436",
   "metadata": {},
   "outputs": [],
   "source": [
    "tsp = readTSPLIB(:bayg29)\n",
    "bayg29 = tsp.weights\n",
    "giveQuotientAndCut(bayg29)"
   ]
  },
  {
   "cell_type": "markdown",
   "id": "b9602ca5",
   "metadata": {},
   "source": [
    "<h2>bays29<h2>"
   ]
  },
  {
   "cell_type": "code",
   "execution_count": null,
   "id": "4b729df2",
   "metadata": {},
   "outputs": [],
   "source": [
    "tsp = readTSPLIB(:bays29)\n",
    "bays29 = tsp.weights\n",
    "giveQuotientAndCut(bays29)"
   ]
  },
  {
   "cell_type": "markdown",
   "id": "d47b9f17",
   "metadata": {},
   "source": [
    "<h2>berlin52<h2>"
   ]
  },
  {
   "cell_type": "code",
   "execution_count": null,
   "id": "c9088bcc",
   "metadata": {},
   "outputs": [],
   "source": [
    "tsp = readTSPLIB(:berlin52)\n",
    "berlin52 = tsp.weights\n",
    "giveQuotientAndCut(berlin52)"
   ]
  },
  {
   "cell_type": "markdown",
   "id": "8678661c",
   "metadata": {},
   "source": [
    "<h2>bier127<h2>"
   ]
  },
  {
   "cell_type": "code",
   "execution_count": null,
   "id": "0c5a73eb",
   "metadata": {},
   "outputs": [],
   "source": [
    "tsp = readTSPLIB(:bier127)\n",
    "bier127 = tsp.weights\n",
    "giveQuotientAndCut(bier127)"
   ]
  },
  {
   "cell_type": "markdown",
   "id": "52b30e6f",
   "metadata": {},
   "source": [
    "<h2>brazil58<h2>"
   ]
  },
  {
   "cell_type": "code",
   "execution_count": null,
   "id": "9e003cae",
   "metadata": {},
   "outputs": [],
   "source": [
    "tsp = readTSPLIB(:brazil58)\n",
    "brazil58 = tsp.weights\n",
    "giveQuotientAndCut(brazil58)"
   ]
  },
  {
   "cell_type": "markdown",
   "id": "d6353860",
   "metadata": {},
   "source": [
    "<h2>brg180<h2>"
   ]
  },
  {
   "cell_type": "code",
   "execution_count": null,
   "id": "5d56b7b1",
   "metadata": {},
   "outputs": [],
   "source": [
    "tsp = readTSPLIB(:brg180)\n",
    "brg180 = tsp.weights\n",
    "giveQuotientAndCut(brg180)"
   ]
  },
  {
   "cell_type": "markdown",
   "id": "0b33bc58",
   "metadata": {},
   "source": [
    "<h2>ch130<h2>"
   ]
  },
  {
   "cell_type": "code",
   "execution_count": null,
   "id": "2e53a74c",
   "metadata": {},
   "outputs": [],
   "source": [
    "tsp = readTSPLIB(:ch130)\n",
    "ch130 = tsp.weights\n",
    "giveQuotientAndCut(ch130)"
   ]
  },
  {
   "cell_type": "markdown",
   "id": "46675811",
   "metadata": {},
   "source": [
    "<h2>ch150<h2>"
   ]
  },
  {
   "cell_type": "code",
   "execution_count": null,
   "id": "d5b3e98d",
   "metadata": {},
   "outputs": [],
   "source": [
    "tsp = readTSPLIB(:ch150)\n",
    "ch150 = tsp.weights\n",
    "giveQuotientAndCut(ch150)"
   ]
  },
  {
   "cell_type": "markdown",
   "id": "b18b6ce4",
   "metadata": {},
   "source": [
    "<h2>d198<h2>"
   ]
  },
  {
   "cell_type": "code",
   "execution_count": null,
   "id": "db65a89c",
   "metadata": {},
   "outputs": [],
   "source": [
    "tsp = readTSPLIB(:d198)\n",
    "d198 = tsp.weights\n",
    "giveQuotientAndCut(d198)"
   ]
  },
  {
   "cell_type": "markdown",
   "id": "997cbecc",
   "metadata": {},
   "source": [
    "<h2>eil101<h2>"
   ]
  },
  {
   "cell_type": "code",
   "execution_count": null,
   "id": "fa615eb2",
   "metadata": {},
   "outputs": [],
   "source": [
    "tsp = readTSPLIB(:eil101)\n",
    "eil101 = tsp.weights\n",
    "giveQuotientAndCut(eil101)"
   ]
  },
  {
   "cell_type": "markdown",
   "id": "8b6a4284",
   "metadata": {},
   "source": [
    "<h2>gr120<h2>"
   ]
  },
  {
   "cell_type": "code",
   "execution_count": null,
   "id": "2db53ff2",
   "metadata": {},
   "outputs": [],
   "source": [
    "tsp = readTSPLIB(:gr120)\n",
    "gr120 = tsp.weights\n",
    "giveQuotientAndCut(gr120)"
   ]
  },
  {
   "cell_type": "markdown",
   "id": "d07e5bfa",
   "metadata": {},
   "source": [
    "<h2>gr137<h2>"
   ]
  },
  {
   "cell_type": "code",
   "execution_count": null,
   "id": "910a9b97",
   "metadata": {},
   "outputs": [],
   "source": [
    "tsp = readTSPLIB(:gr137)\n",
    "gr137 = tsp.weights\n",
    "giveQuotientAndCut(gr137)"
   ]
  },
  {
   "cell_type": "markdown",
   "id": "36cba553",
   "metadata": {},
   "source": [
    "<h2>gr202<h2>"
   ]
  },
  {
   "cell_type": "code",
   "execution_count": null,
   "id": "d667908e",
   "metadata": {},
   "outputs": [],
   "source": [
    "tsp = readTSPLIB(:gr202)\n",
    "gr202 = tsp.weights\n",
    "giveQuotientAndCut(gr202)"
   ]
  },
  {
   "cell_type": "markdown",
   "id": "36b5af87",
   "metadata": {},
   "source": [
    "<h2>gr96<h2>"
   ]
  },
  {
   "cell_type": "code",
   "execution_count": null,
   "id": "fbc2e77e",
   "metadata": {},
   "outputs": [],
   "source": [
    "tsp = readTSPLIB(:gr96)\n",
    "gr96 = tsp.weights\n",
    "giveQuotientAndCut(gr96)"
   ]
  },
  {
   "cell_type": "markdown",
   "id": "3aeb78cb",
   "metadata": {},
   "source": [
    "<h2>kroA100<h2>"
   ]
  },
  {
   "cell_type": "code",
   "execution_count": null,
   "id": "a62c8515",
   "metadata": {},
   "outputs": [],
   "source": [
    "tsp = readTSPLIB(:kroA100)\n",
    "kroA100 = tsp.weights\n",
    "giveQuotientAndCut(kroA100)"
   ]
  },
  {
   "cell_type": "markdown",
   "id": "e4c62038",
   "metadata": {},
   "source": [
    "<h2>a280<h2>"
   ]
  },
  {
   "cell_type": "code",
   "execution_count": null,
   "id": "2354b676",
   "metadata": {},
   "outputs": [],
   "source": [
    "tsp = readTSPLIB(:a280)\n",
    "a280 = tsp.weights\n",
    "giveQuotientAndCut(a280)"
   ]
  },
  {
   "cell_type": "markdown",
   "id": "28388169",
   "metadata": {},
   "source": [
    "<h2> 2. Code for table 3: Network repository graph<h2>"
   ]
  },
  {
   "cell_type": "code",
   "execution_count": null,
   "id": "23d54373",
   "metadata": {},
   "outputs": [],
   "source": [
    "#These graphs can be found in the following link: \n",
    "#https://networkrepository.com/networks.php"
   ]
  },
  {
   "cell_type": "markdown",
   "id": "05c4c955",
   "metadata": {},
   "source": [
    "<h2>ENZYMES8<h2>"
   ]
  },
  {
   "cell_type": "code",
   "execution_count": null,
   "id": "52dbdbc5",
   "metadata": {},
   "outputs": [],
   "source": [
    "enzymes8 = loadGraph(\"graphNetwork\\\\ENZYMES8.edges\",88,false)\n",
    "giveQuotientAndCut(enzymes8)"
   ]
  },
  {
   "cell_type": "markdown",
   "id": "33656d44",
   "metadata": {},
   "source": [
    "<h2>eco-stmarks<h2>"
   ]
  },
  {
   "cell_type": "code",
   "execution_count": null,
   "id": "176a8176",
   "metadata": {},
   "outputs": [],
   "source": [
    "eco_stmarks = loadGraph(\"graphNetwork\\\\eco-stmarks.edges\",54,true)\n",
    "giveQuotientAndCut(eco_stmarks)"
   ]
  },
  {
   "cell_type": "markdown",
   "id": "37ab0ffb",
   "metadata": {},
   "source": [
    "<h2>johnson16-2-4<h2>"
   ]
  },
  {
   "cell_type": "code",
   "execution_count": null,
   "id": "ab8c0481",
   "metadata": {},
   "outputs": [],
   "source": [
    "johnson1624 = loadGraph(\"graphNetwork\\\\johnson16-2-4.mtx\",120,false)\n",
    "giveQuotientAndCut(johnson1624)"
   ]
  },
  {
   "cell_type": "markdown",
   "id": "b3db3d12",
   "metadata": {},
   "source": [
    "<h2>hamming6-2<h2>"
   ]
  },
  {
   "cell_type": "code",
   "execution_count": null,
   "id": "1344161b",
   "metadata": {},
   "outputs": [],
   "source": [
    "hamming62 = loadGraph(\"graphNetwork\\\\hamming6-2.mtx\",64,false)\n",
    "giveQuotientAndCut(hamming62)"
   ]
  },
  {
   "cell_type": "markdown",
   "id": "485d43b5",
   "metadata": {},
   "source": [
    "<h2>ia-infect-hyper<h2>"
   ]
  },
  {
   "cell_type": "code",
   "execution_count": null,
   "id": "2fa872cb",
   "metadata": {},
   "outputs": [],
   "source": [
    "ia_infect_hyper = loadGraph(\"graphNetwork\\\\ia-infect-hyper.mtx\",113,false)\n",
    "giveQuotientAndCut(ia_infect_hyper)"
   ]
  },
  {
   "cell_type": "markdown",
   "id": "a9f81f60",
   "metadata": {},
   "source": [
    "<h2>soc-dolphins<h2>"
   ]
  },
  {
   "cell_type": "code",
   "execution_count": null,
   "id": "23ceda86",
   "metadata": {},
   "outputs": [],
   "source": [
    "soc_dolphins = loadGraph(\"graphNetwork\\\\soc-dolphins.mtx\",62,false)\n",
    "giveQuotientAndCut(soc_dolphins)"
   ]
  },
  {
   "cell_type": "markdown",
   "id": "cf70a3e1",
   "metadata": {},
   "source": [
    "<h2>email-enron-only<h2>"
   ]
  },
  {
   "cell_type": "code",
   "execution_count": null,
   "id": "47588273",
   "metadata": {},
   "outputs": [],
   "source": [
    "email_enron_only= loadGraph(\"graphNetwork\\\\email-enron-only.mtx\",143,false)\n",
    "giveQuotientAndCut(email_enron_only)"
   ]
  },
  {
   "cell_type": "markdown",
   "id": "45a6cb11",
   "metadata": {},
   "source": [
    "<h2>dwt_209<h2>"
   ]
  },
  {
   "cell_type": "code",
   "execution_count": null,
   "id": "70f69579",
   "metadata": {},
   "outputs": [],
   "source": [
    "dwt_209 = loadGraph(\"graphNetwork\\\\dwt_209.mtx\",209,false)\n",
    "giveQuotientAndCut(dwt_209)"
   ]
  },
  {
   "cell_type": "markdown",
   "id": "99319cfe",
   "metadata": {},
   "source": [
    "<h2>inf-USAir97<h2>"
   ]
  },
  {
   "cell_type": "code",
   "execution_count": null,
   "id": "bf626d82",
   "metadata": {},
   "outputs": [],
   "source": [
    "inf_USAir97 = loadGraph(\"graphNetwork\\\\inf-USAir97.mtx\",332,true)\n",
    "giveQuotientAndCut(inf_USAir97)\n"
   ]
  },
  {
   "cell_type": "markdown",
   "id": "380fe24d",
   "metadata": {},
   "source": [
    "<h2>ca-netscience<h2>"
   ]
  },
  {
   "cell_type": "code",
   "execution_count": null,
   "id": "9b272fc3",
   "metadata": {},
   "outputs": [],
   "source": [
    "ca_netscience = loadGraph(\"graphNetwork\\\\ca-netscience.mtx\",379,false)\n",
    "giveQuotientAndCut(ca_netscience)"
   ]
  },
  {
   "cell_type": "markdown",
   "id": "32639d1d",
   "metadata": {},
   "source": [
    "<h2>ia-infect-dublin<h2>"
   ]
  },
  {
   "cell_type": "code",
   "execution_count": null,
   "id": "b559da88",
   "metadata": {},
   "outputs": [],
   "source": [
    "ia_infect_dublin= loadGraph(\"graphNetwork\\\\ia-infect-dublin.mtx\",410,false)\n",
    "giveQuotientAndCut(ia_infect_dublin)"
   ]
  },
  {
   "cell_type": "markdown",
   "id": "2545ac07",
   "metadata": {},
   "source": [
    "<h2>road-chesapeake<h2>"
   ]
  },
  {
   "cell_type": "code",
   "execution_count": null,
   "id": "b9b300ff",
   "metadata": {},
   "outputs": [],
   "source": [
    "road_chesapeake = loadGraph(\"graphNetwork\\\\road-chesapeake.mtx\",39,false)\n",
    "giveQuotientAndCut(road_chesapeake)"
   ]
  },
  {
   "cell_type": "markdown",
   "id": "a934bd12",
   "metadata": {},
   "source": [
    "<h2>Erdos991<h2>"
   ]
  },
  {
   "cell_type": "code",
   "execution_count": null,
   "id": "b117c471",
   "metadata": {},
   "outputs": [],
   "source": [
    "Erdos991 = loadGraph(\"graphNetwork\\\\Erdos991.mtx\",492,false)\n",
    "giveQuotientAndCut(Erdos991)"
   ]
  },
  {
   "cell_type": "markdown",
   "id": "1bd2fce8",
   "metadata": {},
   "source": [
    "<h2>dwt_503<h2>"
   ]
  },
  {
   "cell_type": "code",
   "execution_count": null,
   "id": "cf011d8b",
   "metadata": {},
   "outputs": [],
   "source": [
    "dwt_503 = loadGraph(\"graphNetwork\\\\dwt_503.mtx\",503,false)\n",
    "giveQuotientAndCut(dwt_503)"
   ]
  },
  {
   "cell_type": "markdown",
   "id": "e107518e",
   "metadata": {},
   "source": [
    "<h2>p-hat700-1<h2>"
   ]
  },
  {
   "cell_type": "code",
   "execution_count": null,
   "id": "d2bbcdb1",
   "metadata": {},
   "outputs": [],
   "source": [
    "p_hat700_1 = loadGraph(\"graphNetwork\\\\p-hat700-1.mtx\",700,false)\n",
    "giveQuotientAndCut(p_hat700_1)"
   ]
  },
  {
   "cell_type": "markdown",
   "id": "d2d3f569",
   "metadata": {},
   "source": [
    "<h2>DD687<h2>"
   ]
  },
  {
   "cell_type": "code",
   "execution_count": null,
   "id": "db1a7d06",
   "metadata": {},
   "outputs": [],
   "source": [
    "#care! This graph has self loops.\n",
    "DD687 = loadGraph(\"graphNetwork\\\\DD687.edges\",725,false)\n",
    "giveQuotientAndCut(DD687)"
   ]
  },
  {
   "cell_type": "markdown",
   "id": "a69b4c1e",
   "metadata": {},
   "source": [
    "<h2>email-univ<h2>"
   ]
  },
  {
   "cell_type": "code",
   "execution_count": null,
   "id": "56a7c7ca",
   "metadata": {},
   "outputs": [],
   "source": [
    "email_univ= loadGraph(\"graphNetwork\\\\email-univ.edges\",1133,false)\n",
    "giveQuotientAndCut(email_univ)"
   ]
  },
  {
   "cell_type": "code",
   "execution_count": null,
   "id": "6ecacc20",
   "metadata": {},
   "outputs": [],
   "source": []
  },
  {
   "cell_type": "markdown",
   "id": "c919038a",
   "metadata": {},
   "source": [
    "<h2> Code for table 1: Erods-Renyi random instances of Mirka & Williamson <h2>"
   ]
  },
  {
   "cell_type": "markdown",
   "id": "05349c11",
   "metadata": {},
   "source": [
    "<h3>G(50,0.1)<h3>"
   ]
  },
  {
   "cell_type": "code",
   "execution_count": null,
   "id": "55565066",
   "metadata": {},
   "outputs": [],
   "source": [
    "G = loadGraph(\"ErdosRenyi\\\\random n=50 p=0.1.txt\",50,false)\n",
    "#G = Matrix(adjacency_matrix(erdos_renyi(50,0.1)))\n",
    "giveQuotientAndCut(G)"
   ]
  },
  {
   "cell_type": "markdown",
   "id": "b928a645",
   "metadata": {},
   "source": [
    "<h3>G(50,0.25)<h3>"
   ]
  },
  {
   "cell_type": "code",
   "execution_count": null,
   "id": "b73aeffb",
   "metadata": {},
   "outputs": [],
   "source": [
    "G = loadGraph(\"ErdosRenyi\\\\random n=50 p=0.25.txt\",50,false)\n",
    "giveQuotientAndCut(G)"
   ]
  },
  {
   "cell_type": "markdown",
   "id": "2f53695d",
   "metadata": {},
   "source": [
    "<h3>G(50,0.5)<h3>"
   ]
  },
  {
   "cell_type": "code",
   "execution_count": null,
   "id": "163dab6b",
   "metadata": {},
   "outputs": [],
   "source": [
    "G = loadGraph(\"ErdosRenyi\\\\random n=50 p=0.5.txt\",50,false)\n",
    "giveQuotientAndCut(G)"
   ]
  },
  {
   "cell_type": "markdown",
   "id": "9fe576e9",
   "metadata": {},
   "source": [
    "<h3>G(50,0.75)<h3>"
   ]
  },
  {
   "cell_type": "code",
   "execution_count": null,
   "id": "fd80e9ac",
   "metadata": {},
   "outputs": [],
   "source": [
    "G = loadGraph(\"ErdosRenyi\\\\random n=50 p=0.75.txt\",50,false)\n",
    "giveQuotientAndCut(G)"
   ]
  },
  {
   "cell_type": "markdown",
   "id": "5674adb8",
   "metadata": {},
   "source": [
    "<h3>G(100,0.1)<h3>"
   ]
  },
  {
   "cell_type": "code",
   "execution_count": null,
   "id": "27b16903",
   "metadata": {},
   "outputs": [],
   "source": [
    "G = loadGraph(\"ErdosRenyi\\\\random n=100 p=0.1.txt\",100,false)\n",
    "giveQuotientAndCut(G)"
   ]
  },
  {
   "cell_type": "markdown",
   "id": "9169cf18",
   "metadata": {},
   "source": [
    "<h3>G(100,0.25)<h3>"
   ]
  },
  {
   "cell_type": "code",
   "execution_count": null,
   "id": "f3c2aa09",
   "metadata": {},
   "outputs": [],
   "source": [
    "G = loadGraph(\"ErdosRenyi\\\\random n=100 p=0.25.txt\",100,false)\n",
    "giveQuotientAndCut(G)"
   ]
  },
  {
   "cell_type": "markdown",
   "id": "e4747c40",
   "metadata": {},
   "source": [
    "<h3>G(100,0.5)<h3>"
   ]
  },
  {
   "cell_type": "code",
   "execution_count": null,
   "id": "9f37fe94",
   "metadata": {},
   "outputs": [],
   "source": [
    "G = loadGraph(\"ErdosRenyi\\\\random n=100 p=0.5.txt\",100,false)\n",
    "giveQuotientAndCut(G)"
   ]
  },
  {
   "cell_type": "markdown",
   "id": "312f3a87",
   "metadata": {},
   "source": [
    "<h3>G(100,0.75)<h3>"
   ]
  },
  {
   "cell_type": "code",
   "execution_count": null,
   "id": "71d171f2",
   "metadata": {},
   "outputs": [],
   "source": [
    "G = loadGraph(\"ErdosRenyi\\\\random n=100 p=0.75.txt\",100,false)\n",
    "giveQuotientAndCut(G)"
   ]
  },
  {
   "cell_type": "markdown",
   "id": "8dc71202",
   "metadata": {},
   "source": [
    "<h3>G(200,0.1)<h3>"
   ]
  },
  {
   "cell_type": "code",
   "execution_count": null,
   "id": "364979ae",
   "metadata": {},
   "outputs": [],
   "source": [
    "G = loadGraph(\"ErdosRenyi\\\\random n=200 p=0.1.txt\",200,false)\n",
    "giveQuotientAndCut(G)"
   ]
  },
  {
   "cell_type": "markdown",
   "id": "e72056aa",
   "metadata": {},
   "source": [
    "<h3>G(200,0.25)<h3>"
   ]
  },
  {
   "cell_type": "code",
   "execution_count": null,
   "id": "c8e1246e",
   "metadata": {},
   "outputs": [],
   "source": [
    "G = loadGraph(\"ErdosRenyi\\\\random n=200 p=0.25.txt\",200,false)\n",
    "giveQuotientAndCut(G)"
   ]
  },
  {
   "cell_type": "markdown",
   "id": "a44acc92",
   "metadata": {},
   "source": [
    "<h3>G(200,0.5)<h3>"
   ]
  },
  {
   "cell_type": "code",
   "execution_count": null,
   "id": "180ab1c7",
   "metadata": {},
   "outputs": [],
   "source": [
    "G = loadGraph(\"ErdosRenyi\\\\random n=200 p=0.5.txt\",200,false)\n",
    "giveQuotientAndCut(G)"
   ]
  },
  {
   "cell_type": "markdown",
   "id": "b321ba0c",
   "metadata": {},
   "source": [
    "<h3>G(200,0.75)<h3>"
   ]
  },
  {
   "cell_type": "code",
   "execution_count": null,
   "id": "56fe9e75",
   "metadata": {},
   "outputs": [],
   "source": [
    "G = loadGraph(\"ErdosRenyi\\\\random n=200 p=0.75.txt\",200,false)\n",
    "giveQuotientAndCut(G)"
   ]
  },
  {
   "cell_type": "markdown",
   "id": "52ba91f6",
   "metadata": {},
   "source": [
    "<h3>G(350,0.1)<h3>"
   ]
  },
  {
   "cell_type": "code",
   "execution_count": null,
   "id": "74413079",
   "metadata": {},
   "outputs": [],
   "source": [
    "G = loadGraph(\"ErdosRenyi\\\\random n=350 p=0.1.txt\",350,false)\n",
    "giveQuotientAndCut(G)"
   ]
  },
  {
   "cell_type": "markdown",
   "id": "a302b0f6",
   "metadata": {},
   "source": [
    "<h3>G(350,0.25)<h3>"
   ]
  },
  {
   "cell_type": "code",
   "execution_count": null,
   "id": "4a34f963",
   "metadata": {},
   "outputs": [],
   "source": [
    "G = loadGraph(\"ErdosRenyi\\\\random n=350 p=0.25.txt\",350,false)\n",
    "giveQuotientAndCut(G)"
   ]
  },
  {
   "cell_type": "markdown",
   "id": "f1abcd3b",
   "metadata": {},
   "source": [
    "<h3>G(350,0.5)<h3>"
   ]
  },
  {
   "cell_type": "code",
   "execution_count": null,
   "id": "2cd1fc5c",
   "metadata": {},
   "outputs": [],
   "source": [
    "G = loadGraph(\"ErdosRenyi\\\\random n=350 p=0.5.txt\",350,false)\n",
    "giveQuotientAndCut(G)"
   ]
  },
  {
   "cell_type": "markdown",
   "id": "5d6be1ea",
   "metadata": {},
   "source": [
    "<h3>G(350,0.75)<h3>"
   ]
  },
  {
   "cell_type": "code",
   "execution_count": null,
   "id": "bee7330d",
   "metadata": {},
   "outputs": [],
   "source": [
    "G = loadGraph(\"ErdosRenyi\\\\random n=350 p=0.75.txt\",350,false)\n",
    "giveQuotientAndCut(G)"
   ]
  },
  {
   "cell_type": "markdown",
   "id": "8fed3bba",
   "metadata": {},
   "source": [
    "<h3>G(500,0.1)<h3>"
   ]
  },
  {
   "cell_type": "code",
   "execution_count": null,
   "id": "85de649e",
   "metadata": {},
   "outputs": [],
   "source": [
    "G = loadGraph(\"ErdosRenyi\\\\random n=500 p=0.1.txt\",500,false)\n",
    "giveQuotientAndCut(G)"
   ]
  },
  {
   "cell_type": "code",
   "execution_count": null,
   "id": "bee6c196",
   "metadata": {},
   "outputs": [],
   "source": []
  },
  {
   "cell_type": "markdown",
   "id": "f7f74f85",
   "metadata": {},
   "source": [
    "<h3>G(500,0.25)<h3>"
   ]
  },
  {
   "cell_type": "code",
   "execution_count": null,
   "id": "f3fc60ac",
   "metadata": {},
   "outputs": [],
   "source": [
    "G = loadGraph(\"ErdosRenyi\\\\random n=500 p=0.25.txt\",500,false)\n",
    "giveQuotientAndCut(G)"
   ]
  },
  {
   "cell_type": "markdown",
   "id": "92893f3f",
   "metadata": {},
   "source": [
    "<h3>G(500,0.5)<h3>"
   ]
  },
  {
   "cell_type": "code",
   "execution_count": null,
   "id": "1245f87c",
   "metadata": {},
   "outputs": [],
   "source": [
    "G = loadGraph(\"ErdosRenyi\\\\random n=500 p=0.5.txt\",500,false)\n",
    "giveQuotientAndCut(G)"
   ]
  },
  {
   "cell_type": "markdown",
   "id": "1d570f8d",
   "metadata": {},
   "source": [
    "<h3>G(500,0.75)<h3>"
   ]
  },
  {
   "cell_type": "code",
   "execution_count": null,
   "id": "1b71fc75",
   "metadata": {},
   "outputs": [],
   "source": [
    "G = loadGraph(\"ErdosRenyi\\\\random n=500 p=0.75.txt\",500,false)\n",
    "giveQuotientAndCut(G)"
   ]
  },
  {
   "cell_type": "markdown",
   "id": "023ca774",
   "metadata": {},
   "source": [
    "<h2>4.  Code for table 4 and table 5: Quotient of chi(G) to z_gw, and  Quotient of z_sp to z_gw  .<h2>"
   ]
  },
  {
   "cell_type": "markdown",
   "id": "5f6a3938",
   "metadata": {},
   "source": [
    "<h3> a. k=4, l= 5<h3>"
   ]
  },
  {
   "cell_type": "code",
   "execution_count": 4,
   "id": "d7c8370c",
   "metadata": {},
   "outputs": [
    {
     "data": {
      "text/plain": [
       "6-element Vector{Float64}:\n",
       " 1.0208649757086665\n",
       " 1.241288204577846\n",
       " 0.0026412145287263975\n",
       " 0.00872635824416017\n",
       " 0.0\n",
       " 0.0"
      ]
     },
     "execution_count": 4,
     "metadata": {},
     "output_type": "execute_result"
    }
   ],
   "source": [
    "answer64_4_5=tableEigenFooling(64,4,5)\n"
   ]
  },
  {
   "cell_type": "code",
   "execution_count": 5,
   "id": "35238f40",
   "metadata": {},
   "outputs": [
    {
     "data": {
      "text/plain": [
       "6-element Vector{Float64}:\n",
       " 1.017201631101175\n",
       " 1.4167753385299755\n",
       " 0.002447364635125527\n",
       " 0.007361697868184715\n",
       " 0.0\n",
       " 0.0"
      ]
     },
     "execution_count": 5,
     "metadata": {},
     "output_type": "execute_result"
    }
   ],
   "source": [
    "answer100_4_5=tableEigenFooling(100,4,5)\n"
   ]
  },
  {
   "cell_type": "code",
   "execution_count": 6,
   "id": "affd05be",
   "metadata": {},
   "outputs": [
    {
     "data": {
      "text/plain": [
       "6-element Vector{Float64}:\n",
       " 1.0121273991139828\n",
       " 1.7599658972149004\n",
       " 0.0017536500408746377\n",
       " 0.003201565868712626\n",
       " 0.0\n",
       " 0.0"
      ]
     },
     "execution_count": 6,
     "metadata": {},
     "output_type": "execute_result"
    }
   ],
   "source": [
    "answer196_4_5=tableEigenFooling(196,4,5)\n"
   ]
  },
  {
   "cell_type": "code",
   "execution_count": 7,
   "id": "f8954e32",
   "metadata": {},
   "outputs": [
    {
     "data": {
      "text/plain": [
       "6-element Vector{Float64}:\n",
       " 1.009782594704004\n",
       " 2.2886377520738175\n",
       " 0.0011028714726230783\n",
       " 0.0033509114992715384\n",
       " 0.0\n",
       " 0.0"
      ]
     },
     "execution_count": 7,
     "metadata": {},
     "output_type": "execute_result"
    }
   ],
   "source": [
    "answer_400_4_5=tableEigenFooling(400,4,5)\n"
   ]
  },
  {
   "cell_type": "markdown",
   "id": "f98d8822",
   "metadata": {},
   "source": [
    "<h3>b. k=10, l=10<h3>"
   ]
  },
  {
   "cell_type": "code",
   "execution_count": 8,
   "id": "430615af",
   "metadata": {},
   "outputs": [
    {
     "data": {
      "text/plain": [
       "6-element Vector{Float64}:\n",
       " 1.0288485337269624\n",
       " 1.137001103957155\n",
       " 0.002409332632211075\n",
       " 0.007760930439462225\n",
       " 0.0\n",
       " 0.0"
      ]
     },
     "execution_count": 8,
     "metadata": {},
     "output_type": "execute_result"
    }
   ],
   "source": [
    "answer_64_6_10=tableEigenFooling(64,6,10)"
   ]
  },
  {
   "cell_type": "code",
   "execution_count": 9,
   "id": "fa82afd5",
   "metadata": {},
   "outputs": [
    {
     "data": {
      "text/plain": [
       "6-element Vector{Float64}:\n",
       " 1.0243293415007044\n",
       " 1.2777154446189471\n",
       " 0.0012055795051903642\n",
       " 0.007455480134922394\n",
       " 0.0\n",
       " 0.0"
      ]
     },
     "execution_count": 9,
     "metadata": {},
     "output_type": "execute_result"
    }
   ],
   "source": [
    "answer_100_6_10=tableEigenFooling(100,6,10)\n"
   ]
  },
  {
   "cell_type": "code",
   "execution_count": 10,
   "id": "79467512",
   "metadata": {},
   "outputs": [
    {
     "data": {
      "text/plain": [
       "6-element Vector{Float64}:\n",
       " 1.019507238654882\n",
       " 1.546199587976714\n",
       " 0.0010141390704828568\n",
       " 0.004720599132675943\n",
       " 0.0\n",
       " 0.0"
      ]
     },
     "execution_count": 10,
     "metadata": {},
     "output_type": "execute_result"
    }
   ],
   "source": [
    "answer_196_6_10=tableEigenFooling(196,6,10)\n"
   ]
  },
  {
   "cell_type": "code",
   "execution_count": 11,
   "id": "c078b31e",
   "metadata": {},
   "outputs": [
    {
     "data": {
      "text/plain": [
       "6-element Vector{Float64}:\n",
       " 1.0132984486513934\n",
       " 1.961809135755642\n",
       " 0.0006538399595328774\n",
       " 0.0023500750627662437\n",
       " 0.0\n",
       " 0.0"
      ]
     },
     "execution_count": 11,
     "metadata": {},
     "output_type": "execute_result"
    }
   ],
   "source": [
    "answer_400_10_10=tableEigenFooling(400,6,10)\n"
   ]
  },
  {
   "cell_type": "markdown",
   "id": "c9c11a2a",
   "metadata": {},
   "source": [
    "<h2> 6. Code for figure 1 <h2>"
   ]
  },
  {
   "cell_type": "markdown",
   "id": "c3bd856f",
   "metadata": {},
   "source": [
    "<h3>a. Functions <h3>"
   ]
  },
  {
   "cell_type": "code",
   "execution_count": null,
   "id": "6c5fbb21",
   "metadata": {},
   "outputs": [],
   "source": [
    "function IterVsSDP(typeGraph,interval,p,graphDeg,rounds)\n",
    "    len = length( interval)\n",
    "    SolArrayMax = zeros(len)\n",
    "    SolArrayMedian = zeros(len)\n",
    "    SolArrayMin = zeros(len)\n",
    "\n",
    "\n",
    "    count = 1\n",
    "     for i in interval\n",
    "         print(i)\n",
    "        flush(stdout)        \n",
    "       \n",
    "         values = zeros(rounds)\n",
    "         valuesTotalCut  = zeros(rounds)\n",
    "         graphs = Array{Any,1}(undef,rounds)\n",
    "       \n",
    "            if(typeGraph == \"erdosLog\")\n",
    "              [graphs[r]=   Matrix(adjacency_matrix(erdos_renyi(i,3*log(i)/i))) for r in 1:rounds]  \n",
    "            elseif (typeGraph == \"erdosNP\")\n",
    "                  [graphs[r]=  Matrix(adjacency_matrix(erdos_renyi(i,1/(2i)))) for r in 1:rounds]  \n",
    "            elseif (typeGraph == \"regular\")\n",
    "                  [graphs[r]=   Matrix(adjacency_matrix(random_regular_graph(i,graphDeg))) for r in 1:rounds]  \n",
    "            elseif (typeGraph == \"linearReg\")\n",
    "             graphDeglinReg = Int64(round(i/10))\n",
    "                if (isodd(i*graphDeglinReg))\n",
    "                      graphDeglinReg=graphDeglinReg+1\n",
    "                end\n",
    "             [graphs[r]=  Matrix(adjacency_matrix(random_regular_graph(i,graphDeglinReg))) for r in 1:rounds]  \n",
    "               \n",
    "              elseif (typeGraph == \"sqrtReg\")\n",
    "             graphDegSqrtReg = Int64(round( sqrt(i)))\n",
    "                if (isodd(i*graphDegSqrtReg))\n",
    "                      graphDegSqrtReg=graphDegSqrtReg+1\n",
    "                end\n",
    "             [graphs[r]=  Matrix(adjacency_matrix(random_regular_graph(i,graphDegSqrtReg))) for r in 1:rounds]  \n",
    "               \n",
    "           \n",
    "        else\n",
    "             [graphs[r]=    Matrix(adjacency_matrix(erdos_renyi(i, p))) for r in 1:rounds]  \n",
    "\n",
    "                    end    \n",
    "   \n",
    "        for j in 1: rounds  \n",
    "     \n",
    "   eigenSol = solverIteratelyLP(graphs[j],i)\n",
    "   sdpSol =   GoemansPrimal(graphs[j])[3]\n",
    "         \n",
    "               values[j] = eigenSol/sdpSol\n",
    "                     \n",
    "         end\n",
    "               SolArrayMedian[count]= median(values)\n",
    "               SolArrayMax[count] = maximum(values)\n",
    "               SolArrayMin[count]= minimum(values)    \n",
    "       \n",
    "     count = count+1      \n",
    "        end\n",
    "   \n",
    "   \n",
    "    results = zeros(len,3)\n",
    "    results[:,1]  = SolArrayMax\n",
    "    results[:,2]  = SolArrayMedian\n",
    "    results[:,3]  = SolArrayMin\n",
    "   \n",
    "    return(results,interval)    \n",
    "       \n",
    "end\n"
   ]
  },
  {
   "cell_type": "code",
   "execution_count": null,
   "id": "eb53f105",
   "metadata": {},
   "outputs": [],
   "source": [
    "\n",
    "function lpVsSDP(typeGraph,interval,p,graphDeg,rounds)\n",
    "    len = length( interval)\n",
    "    SolArrayMax = zeros(len)\n",
    "    SolArrayMedian = zeros(len)\n",
    "    SolArrayMin = zeros(len)\n",
    "\n",
    "\n",
    "    count = 1\n",
    "     for i in interval\n",
    "         print(i)\n",
    "        flush(stdout)        \n",
    "       \n",
    "         values = zeros(rounds)\n",
    "         valuesTotalCut  = zeros(rounds)\n",
    "         graphs = Array{Any,1}(undef,rounds)\n",
    "       \n",
    "            if(typeGraph == \"erdosLog\")\n",
    "              [graphs[r]=   Matrix(adjacency_matrix(erdos_renyi(i,3*log(i)/i))) for r in 1:rounds]  \n",
    "            elseif (typeGraph == \"erdosNP\")\n",
    "                  [graphs[r]=  Matrix(adjacency_matrix(erdos_renyi(i,1/(2i)))) for r in 1:rounds]  \n",
    "            elseif (typeGraph == \"regular\")\n",
    "                  [graphs[r]=   Matrix(adjacency_matrix(random_regular_graph(i,graphDeg))) for r in 1:rounds]  \n",
    "            elseif (typeGraph == \"linearReg\")\n",
    "             graphDeglinReg = Int64(round(i/10))\n",
    "                if (isodd(i*graphDeglinReg))\n",
    "                      graphDeglinReg=graphDeglinReg+1\n",
    "                end\n",
    "             [graphs[r]=  Matrix(adjacency_matrix(random_regular_graph(i,graphDeglinReg))) for r in 1:rounds]  \n",
    "               \n",
    "              elseif (typeGraph == \"sqrtReg\")\n",
    "             graphDegSqrtReg = Int64(round( sqrt(i)))\n",
    "                if (isodd(i*graphDegSqrtReg))\n",
    "                      graphDegSqrtReg=graphDegSqrtReg+1\n",
    "                end\n",
    "             [graphs[r]=  Matrix(adjacency_matrix(random_regular_graph(i,graphDegSqrtReg))) for r in 1:rounds]  \n",
    "               \n",
    "           \n",
    "        else\n",
    "             [graphs[r]=    Matrix(adjacency_matrix(erdos_renyi(i, p))) for r in 1:rounds]  \n",
    "\n",
    "                    end    \n",
    "   \n",
    "        for j in 1: rounds  \n",
    "     \n",
    "   eigenSol = eigenRelaxation(graphs[j], giveEigenRelParameters(graphs[j],false))\n",
    "   sdpSol =   GoemansPrimal(graphs[j])[3]\n",
    "         \n",
    "               values[j] = eigenSol[3]/sdpSol\n",
    "                     \n",
    "         end\n",
    "               SolArrayMedian[count]= median(values)\n",
    "               SolArrayMax[count] = maximum(values)\n",
    "               SolArrayMin[count]= minimum(values)    \n",
    "       \n",
    "     count = count+1      \n",
    "        end\n",
    "   \n",
    "   \n",
    "    results = zeros(len,3)\n",
    "    results[:,1]  = SolArrayMax\n",
    "    results[:,2]  = SolArrayMedian\n",
    "    results[:,3]  = SolArrayMin\n",
    "   \n",
    "    return(results,interval)    \n",
    "       \n",
    "end\n",
    "\n"
   ]
  },
  {
   "cell_type": "code",
   "execution_count": null,
   "id": "205dbc32",
   "metadata": {},
   "outputs": [],
   "source": [
    "#if eigens = 0, the method is not using eigenvectors.\n",
    "# if eigens = i>0, uses eigens from 1 to i.\n",
    "function solverIteratelyLP(adjMatrix,numCuts)\n",
    "   \n",
    "    n = size(adjMatrix)[1]\n",
    "     m = Model(Mosek.Optimizer)\n",
    "    set_silent(m)\n",
    "     \n",
    "      @variable(m,-1<=X[1:n,1:n]<=1,Symmetric )\n",
    "         for i in 1:n\n",
    "        @constraint(m,X[i,i]==1)\n",
    "         \n",
    "    end\n",
    "  @objective(m,Max,dot(-adjMatrix,X))\n",
    "    status = optimize!(m)\n",
    "   \n",
    "     \n",
    "     for s in 1:numCuts\n",
    "      maxEigVecto = eigen(value.(X)).vectors[:,1]\n",
    "      @constraint(m, transpose(maxEigVecto)*X*maxEigVecto>=0)\n",
    "    status = optimize!(m)\n",
    "      end  \n",
    "         \n",
    "    return( objective_value(m))\n",
    "\n",
    "end"
   ]
  },
  {
   "cell_type": "markdown",
   "id": "02cbde14",
   "metadata": {},
   "source": [
    "<h3> b. Set a new seed <h3>"
   ]
  },
  {
   "cell_type": "code",
   "execution_count": null,
   "id": "83b8b90f",
   "metadata": {},
   "outputs": [],
   "source": [
    "# set a new seed for this computation\n",
    "Random.seed!(1019068721)"
   ]
  },
  {
   "cell_type": "markdown",
   "id": "501538f4",
   "metadata": {},
   "source": [
    "<h3> c. Compute and plot results<h3>"
   ]
  },
  {
   "cell_type": "code",
   "execution_count": null,
   "id": "6db06f69",
   "metadata": {},
   "outputs": [],
   "source": [
    "\n",
    "#resfinal = lpVsSDP(\"erdos\",20:10:190,0.3,5,5)\n",
    "#Erdosp03 = transpose(resfinal[1])\n",
    "\n",
    "#resIterFinal = IterVsSDP(\"erdos\",20:10:190,0.3,5,3)\n",
    "#values1 = transpose(resIterFinal[1])\n",
    "\n",
    "\n",
    "a2 = vec(Erdosp03[1,:]-Erdosp03[2,:])\n",
    "b2 = vec(Erdosp03[2,:]-Erdosp03[1,:])\n",
    "σs = (a2,abs.(b2))\n",
    "\n",
    "a3 = vec(values1[1,:]-values1[2,:])\n",
    "b3 = vec(values1[2,:]-values1[1,:])\n",
    "σs3 = (a3,abs.(b3))\n",
    "\n",
    "\n",
    "y = plot(resfinal[2], Erdosp03[2,:],marker=(:diamond, 3, 1.),xaxis =\"Size of graph\",label=\"Eigen cuts\",yaxis=\"Lp_S/SDP\" ,size = (800, 500),ylim=(1, 3),linestyle =:dash,ribbon =σs,colour=\"green\",legend=:topleft )\n",
    "plot!(resIterFinal[2], values1[2,:],marker=(:square, 3, 1.),ylabel=\"Cuts/GW\",xaxis =\"size of graph\",yaxis=\"Lp/SDP\" ,label=\"Oracle cuts\",size = (800, 500),ylim=(1, 3),linestyle =:dash,ribbon =σs3,colour=\"orange\")"
   ]
  },
  {
   "cell_type": "code",
   "execution_count": null,
   "id": "9a7c1b3b",
   "metadata": {},
   "outputs": [],
   "source": []
  }
 ],
 "metadata": {
  "kernelspec": {
   "display_name": "Julia 1.7.3",
   "language": "julia",
   "name": "julia-1.7"
  },
  "language_info": {
   "file_extension": ".jl",
   "mimetype": "application/julia",
   "name": "julia",
   "version": "1.7.3"
  }
 },
 "nbformat": 4,
 "nbformat_minor": 5
}
