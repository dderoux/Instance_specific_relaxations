{
 "cells": [
  {
   "cell_type": "code",
   "execution_count": null,
   "id": "0345f3e9",
   "metadata": {},
   "outputs": [],
   "source": [
    "#In this notebook we implement the methods used to evaluate the linear\n",
    "#relaxations of sparce pca. This notebook corresponds to section 4.2 \n",
    "#of the paper."
   ]
  },
  {
   "cell_type": "markdown",
   "id": "69901cb0",
   "metadata": {},
   "source": [
    "<h1>functions and evaluation of SDP for sparse PCA  and its linear relaxation<h1>"
   ]
  },
  {
   "cell_type": "markdown",
   "id": "0e00fd47",
   "metadata": {},
   "source": [
    "<h2>Table of contents <h2>   \n",
    "    0. load sparsePCArelaxations notebook, set seed.<br>\n",
    "    1. Code for figure 2<br>\n",
    "    2. Code for figure 3<br>\n",
    "    3. Code for figure 4<br>\n",
    "    4. Code for table 6<br>\n",
    "    5. Table for table 7<br>\n",
    "    "
   ]
  },
  {
   "cell_type": "code",
   "execution_count": null,
   "id": "fe661e38",
   "metadata": {},
   "outputs": [],
   "source": []
  },
  {
   "cell_type": "markdown",
   "id": "900f298a",
   "metadata": {},
   "source": [
    "<h2> 0. load sparsePCArelaxations notebook.<h2>"
   ]
  },
  {
   "cell_type": "code",
   "execution_count": null,
   "id": "1a2f20c0",
   "metadata": {},
   "outputs": [],
   "source": [
    "using NBInclude, LightGraphs,Statistics,Random,Distributions,Plots\n",
    " "
   ]
  },
  {
   "cell_type": "code",
   "execution_count": null,
   "id": "227c933e",
   "metadata": {},
   "outputs": [],
   "source": [
    "@nbinclude(\"sparsePCArelaxations.ipynb\")\n"
   ]
  },
  {
   "cell_type": "code",
   "execution_count": null,
   "id": "8ae94e38",
   "metadata": {},
   "outputs": [],
   "source": [
    "Random.seed!(123412341234)"
   ]
  },
  {
   "cell_type": "markdown",
   "id": "7691915e",
   "metadata": {},
   "source": [
    "<h2>1. Code  for table 2 <h2>\n",
    "    "
   ]
  },
  {
   "cell_type": "code",
   "execution_count": null,
   "id": "f27f5820",
   "metadata": {},
   "outputs": [],
   "source": [
    "# we evaluate the time taken to solve each of the semidefinite program\n",
    "# and the linear relaxation of SParse PCA. For both programs, we \n",
    "#we report the time taken by the solver. For the linear relaxation."
   ]
  },
  {
   "cell_type": "markdown",
   "id": "fd71c24b",
   "metadata": {},
   "source": [
    "<h3> Functions <h3>"
   ]
  },
  {
   "cell_type": "code",
   "execution_count": null,
   "id": "026477b6",
   "metadata": {},
   "outputs": [],
   "source": [
    "#function to compute the time taken to solve the semidefinite relaxation of sparse PCA\n",
    "# in average. We report the standard deviation and the average time.\n",
    "#@param startSize: size of the first graphs we try.\n",
    "#@param endSize: largest size of graphs that we try.\n",
    "#@param sampleSize: number of graph to average\n",
    "function plotTimesSParsePCASemidefinite(startSize,endSize,sampleSize)\n",
    "sizeGraph= collect(startSize:5:endSize) \n",
    "lenSizeGraph = length(sizeGraph)\n",
    "results = zeros(3,lenSizeGraph)\n",
    "results[1,:] = sizeGraph\n",
    "q=1\n",
    "for i in sizeGraph\n",
    "    println(i)\n",
    "    graphDeg = Int64(round(i/10))\n",
    "    if isodd(i*graphDeg)\n",
    "        graphDeg=graphDeg+1\n",
    "    end\n",
    "        \n",
    "    meanTime = zeros(sampleSize)  \n",
    "        \n",
    "    for j in  1:sampleSize  \n",
    "      B=  rand(Normal(0,100),i,i)\n",
    "                   \n",
    "    PsdMatrix = (1/(i-1))*B*transpose(B)\n",
    "    k =  Int64(round(sqrt(i)))\n",
    "    sparseSolution = SdpSparsePCA(PsdMatrix,k)\n",
    "    meanTime[j] = sparseSolution[4]\n",
    "        end\n",
    "    results[2,q]=  mean(meanTime)\n",
    "    results[3,q]=  std(meanTime)\n",
    "    q=q+1\n",
    "    \n",
    "    end\n",
    "   \n",
    "        \n",
    "        \n",
    "    return(results)\n",
    "end\n",
    "\n",
    "#function to compute the time taken to solve the linear relaxation of the semidefinite relaxation of sparse PCA.\n",
    "#@param startSize: size of the first graphs we try.\n",
    "#@param endSize: largest size of graphs that we try.\n",
    "#@param sampleSize: number of graph to average\n",
    "function plotTimesSParsePCAEigenRel(startSize,endSize,sampleSize)\n",
    "sizeGraph= collect(startSize:5:endSize) \n",
    "lenSizeGraph = length(sizeGraph)\n",
    "results = zeros(3,lenSizeGraph)\n",
    "results[1,:] = sizeGraph\n",
    "q=1\n",
    " for i in sizeGraph\n",
    "    print(i)\n",
    "    graphDeg = Int64(round(i/10))\n",
    "    if isodd(i*graphDeg)\n",
    "        graphDeg=graphDeg+1\n",
    "    end\n",
    "   meanTime = zeros(sampleSize)  \n",
    "    for j in  1:sampleSize  \n",
    "      B=  rand(Normal(0,100),i,i)\n",
    "                   \n",
    "    PsdMatrix = (1/(i-1))*B*transpose(B)\n",
    "    k =  Int64(round(sqrt(i)))\n",
    "    sparseSolution = EigenRelSparsePCA(PsdMatrix,k)\n",
    "    meanTime[j] = sparseSolution[4]\n",
    "        end\n",
    "\n",
    "        results[2,q]=  mean(meanTime)\n",
    "    results[3,q]=  std(meanTime)\n",
    "    q=q+1\n",
    "    \n",
    "    end\n",
    "    \n",
    "        \n",
    "        \n",
    "    return(results)\n",
    "end\n",
    "\n"
   ]
  },
  {
   "cell_type": "markdown",
   "id": "e5f06dfc",
   "metadata": {},
   "source": [
    "<h3> Compute values <h3>"
   ]
  },
  {
   "cell_type": "code",
   "execution_count": null,
   "id": "3272c5fd",
   "metadata": {},
   "outputs": [],
   "source": [
    "timeExperimentsSDP =  plotTimesSParsePCASemidefinite(10,70,5)\n",
    "timeExperimentsLP =  plotTimesSParsePCAEigenRel(10,70,5)\n"
   ]
  },
  {
   "cell_type": "markdown",
   "id": "eeb3cea3",
   "metadata": {},
   "source": [
    "<h3>Plot results<h3>"
   ]
  },
  {
   "cell_type": "code",
   "execution_count": null,
   "id": "3d9fd3d5",
   "metadata": {},
   "outputs": [],
   "source": [
    "σs = (timeExperimentsSDP[:,3],timeExperimentsSDP[:,3])\n",
    "plotComparedResults= plot(timeExperimentsSDP[1,:],timeExperimentsSDP[2,:],marker=(:square, 3, 1.), label =(\"SDP_time\"),legend=:topleft,xaxis =\"size of matrix\",yaxis=\"time in seconds\" ,size = (700, 500),linestyle=:dash,yerror =(timeExperimentsSDP[3,:],timeExperimentsSDP[3,:]),colour=\"black\"  )\n",
    "plot!(timeExperimentsLP[1,:],timeExperimentsLP[2,:],marker=(:diamond, 3, 1.), label =(\"EigenLp_time\"),legend=:topleft,xaxis =\"size of matrix\",yaxis=\"time in seconds\" ,size = (700, 500),linestyle=:dash,yerror =(timeExperimentsLP[3,:],timeExperimentsLP[3,:]),colour=\"black\"  )\n"
   ]
  },
  {
   "cell_type": "code",
   "execution_count": null,
   "id": "1689b4f1",
   "metadata": {},
   "outputs": [],
   "source": []
  },
  {
   "cell_type": "markdown",
   "id": "2f760202",
   "metadata": {},
   "source": [
    "<h2>Code for Figure 3<h2>"
   ]
  },
  {
   "cell_type": "code",
   "execution_count": null,
   "id": "a0b5c25d",
   "metadata": {},
   "outputs": [],
   "source": [
    "#Experiments on comparing the optimal value of the linear relaxation for sparse PCA versus\n",
    "# the optimal value of the semidenifite relaxation, by increasing number of cuts added to the linear program.\n"
   ]
  },
  {
   "cell_type": "markdown",
   "id": "9d898e12",
   "metadata": {},
   "source": [
    "<h3>Functions<h3>"
   ]
  },
  {
   "cell_type": "code",
   "execution_count": null,
   "id": "eab7de16",
   "metadata": {},
   "outputs": [],
   "source": [
    "\n",
    "#function to plot the objective of the linear relaxations as more and more cuts are added to the Linear relaxations. We solve the problem for\n",
    "#numGraphs graphs and at a targetspacity. We divide the obtained values by the objective value of the SDP solution.\n",
    "#@param int numGraphs the number of graphs for which we solve the problem\n",
    "#@param matrixType: type of matrices for comparaison. if matrixType== d>0 is a regular graph of degree d. If matrixType==0\n",
    "# B has entries distributed as normal(0,20).\n",
    "#@param int targetSparcity. If targetSparcity==0 then we set k= sqrt(i), where i is the graph size.\n",
    "#@param int matrix_size the number of rows of the matrices to use. Matrices are assumed to be squared.\n",
    "#@param int rounds is the number of experiments we are doing. Each round adds 5 cuts to the LPs.\n",
    " function ObjectiveVSIteration(numGraphs,matrixType,targetSparcity,matrix_size,rounds)\n",
    "\n",
    "    maxNumCuts = rounds*5\n",
    "    results  =zeros(7,rounds)\n",
    "    sdpResults = zeros(numGraphs)\n",
    "      graphs = Array{Any,1}(undef,numGraphs)\n",
    "      graphsStoredCuts = Array{Any,1}(undef,numGraphs)\n",
    "      graphsStoredCutsEigen =  Array{Any,1}(undef,numGraphs)\n",
    "      [graphsStoredCuts[r] = zeros(matrix_size) for r in 1:numGraphs]\n",
    "     \n",
    "       if matrixType==0\n",
    "        \n",
    "            for r in 1: numGraphs\n",
    "            currentGraph = rand(Normal(0,20),matrix_size,matrix_size)\n",
    "            graphs[r]=  (1/(matrix_size-1))*currentGraph*transpose(currentGraph)\n",
    "            end \n",
    "       else \n",
    "             if isodd(matrixType)\n",
    "             matrixType=matrixType+1\n",
    "             end\n",
    "        \n",
    "           for r in 1: numGraphs\n",
    "            currentGraph = Matrix(adjacency_matrix(random_regular_graph(matrix_size,matrixType)))\n",
    "            graphs[r]=  (1/(graphSize-1))*currentGraph*transpose(currentGraph)\n",
    "            end \n",
    "    \n",
    "    \n",
    "    end\n",
    "\n",
    "       [ graphsStoredCutsEigen[r] = eigen(graphs[r]).vectors for r in 1:numGraphs]\n",
    "     \n",
    "        [sdpResults[r] = SdpSparsePCA(graphs[r],targetSparcity)[3] for r in 1:numGraphs ]\n",
    "       \n",
    "\n",
    "    count = 1\n",
    "     cutValue = zeros(numGraphs)\n",
    "        cutValueEigen = zeros(numGraphs)\n",
    "    \n",
    "    for i in 5:5:maxNumCuts\n",
    "       \n",
    "        for j in 1:numGraphs\n",
    "    \n",
    "            solvedIterated = solverIteratelyLP(graphs[j],5,targetSparcity, graphsStoredCuts[j],0)  \n",
    "             cutValue[j]=solvedIterated[1]\n",
    "           \n",
    "            graphsStoredCuts[j]=  solvedIterated[2]\n",
    "            \n",
    "        cutValue[j]= sdpResults[j]/cutValue[j]\n",
    "             solvedIteratedEigen = solverIteratelyLP(graphs[j],5,targetSparcity, graphsStoredCutsEigen[j],i)\n",
    "                cutValueEigen[j]=sdpResults[j]/solvedIteratedEigen[1]\n",
    "                graphsStoredCutsEigen[j]= solvedIteratedEigen[2]\n",
    "\n",
    "             \n",
    "        end\n",
    "         results[1,count] = i\n",
    "        results[2,count] = median(cutValue)\n",
    "        results[3,count] = minimum(cutValue)\n",
    "        results[4,count] = maximum(cutValue)\n",
    "        results[5,count] = median(cutValueEigen)\n",
    "        results[6,count] = minimum(cutValueEigen)\n",
    "        results[7,count] = maximum(cutValueEigen)\n",
    "            \n",
    "       count = count+1 \n",
    "    end\n",
    "\n",
    "    return(results)\n",
    "end"
   ]
  },
  {
   "cell_type": "code",
   "execution_count": null,
   "id": "6085c4dd",
   "metadata": {},
   "outputs": [],
   "source": [
    "# Function to compute the linear relaxation of the SDP by adding cuts iteratively. If cuts are precomputed\n",
    "# they are added as a parameter in Hinicial. This function is called by the function ObjectiveVSIteration.\n",
    "\n",
    "# @param adjMatrix the  matrix to compute the sparse PCA.\n",
    "# @param numCuts the number of cuts to generate and add to the linear program.\n",
    "# @param targetSparcity the sparcity of the PCA components.\n",
    "# @param Hinicial cuts to add to the linear program, in case they were computed on a previous step.\n",
    "# @param eigens indicate if  we should use eigenvectors or not. If eigens = 0, the method is not using eigenvectors.\n",
    "# if eigens = i>0, uses eigens from 1 to i.\n",
    "function solverIteratelyLP(adjMatrix,numCuts,targetSparcity, Hinicial,eigens)\n",
    "\n",
    "    n = size(adjMatrix)[1]\n",
    "    m = Model(Mosek.Optimizer)\n",
    "    set_silent(m)\n",
    "    resultantH = Hinicial\n",
    "      @variable(m,X[1:n,1:n],Symmetric ) \n",
    "      @constraint(m,tr(X)==1)\n",
    "      @variable(m,Y[1:n,1:n],Symmetric)  \n",
    "          @constraint(m,Y.>=X )\n",
    "           @constraint(m,Y.>=-X )\n",
    "           @constraint(m,sum(Y)<=targetSparcity)\n",
    "    \n",
    "    if(eigens>0 && eigens<=n)\n",
    "        \n",
    "        for s in 1:eigens\n",
    "        @constraint(m, transpose(Hinicial[:,s])*X*Hinicial[:,s]>=0)  \n",
    "        end\n",
    "    else\n",
    "    \n",
    "        for s in 1:size(Hinicial,2)\n",
    "        @constraint(m, transpose(Hinicial[:,s])*X*Hinicial[:,s]>=0)  \n",
    "        end\n",
    "    end\n",
    "    \n",
    "        @objective(m,Max,tr(adjMatrix*X))\n",
    "         status = optimize!(m)\n",
    "    \n",
    "    if(eigens>n)   \n",
    "        \n",
    "     for s in 1:numCuts\n",
    "      maxEigVecto = eigen(value.(X)).vectors[:,1]\n",
    "      @constraint(m, transpose(maxEigVecto)*X*maxEigVecto>=0)  \n",
    "      resultantH = hcat(resultantH,maxEigVecto)\n",
    "      status = optimize!(m)\n",
    "      end        \n",
    "        elseif (eigens==0)\n",
    "            for s in 1:numCuts\n",
    "      maxEigVecto = eigen(value.(X)).vectors[:,1]\n",
    "      @constraint(m, transpose(maxEigVecto)*X*maxEigVecto>=0)  \n",
    "      resultantH = hcat(resultantH,maxEigVecto)\n",
    "      status = optimize!(m)\n",
    "      end  \n",
    "            end\n",
    "                \n",
    "        \n",
    "    return(objective_value(m),resultantH)\n",
    "\n",
    "end"
   ]
  },
  {
   "cell_type": "markdown",
   "id": "d74aeb55",
   "metadata": {},
   "source": [
    "<h3>Compute values<h3>"
   ]
  },
  {
   "cell_type": "code",
   "execution_count": null,
   "id": "9f1f40ed",
   "metadata": {},
   "outputs": [],
   "source": [
    " comparedResults  =  ObjectiveVSIteration(20,0,10,80,30)\n"
   ]
  },
  {
   "cell_type": "markdown",
   "id": "b74a05f7",
   "metadata": {},
   "source": [
    "<h3>Plot values<h3>"
   ]
  },
  {
   "cell_type": "code",
   "execution_count": null,
   "id": "71502efe",
   "metadata": {},
   "outputs": [],
   "source": [
    " styles = filter((s->begin\n",
    "                s in Plots.supported_styles()\n",
    "        end), [:solid, :dash, :dash ])\n",
    "styles = reshape(styles, 1, length(styles))\n",
    "a = vec(transpose(comparedResults[5,:]) - transpose(comparedResults[6,:]))\n",
    "b = vec(transpose(comparedResults[7,:])-transpose(comparedResults[5,:]))\n",
    "plotComparedResults= plot(comparedResults[1,:], comparedResults[5,:],marker=(:square, 3, 1.), label =(\"EigenCuts/sdp median\"),legend=:topleft,xaxis =\"cuts\",yaxis=\"Lp/SDP\" ,size = (700, 500),linestyle=:dash,yerror =(a,b),colour=\"black\"  )\n",
    "a2 = vec(transpose(comparedResults[2,:])-transpose(comparedResults[3,:]))\n",
    "b2 = vec(transpose(comparedResults[4,:])-transpose(comparedResults[2,:]))\n",
    "plot!(comparedResults[1,:].+1.5, comparedResults[2,:], label =(\"LinearCuts/sdp median\"),legend=:topleft,marker=(:diamond, 3, 1.),xaxis =\"number of cuts\",yaxis=\"Lp/SDP\" ,size = (700, 500),linestyle =:dash,yerror =(a2,b2),colour=\"black\")\n",
    " "
   ]
  },
  {
   "cell_type": "code",
   "execution_count": null,
   "id": "6adb5c1d",
   "metadata": {},
   "outputs": [],
   "source": []
  },
  {
   "cell_type": "markdown",
   "id": "92c60ecc",
   "metadata": {},
   "source": [
    "<h2>Code for Figure 4 <h2>"
   ]
  },
  {
   "cell_type": "code",
   "execution_count": null,
   "id": "db53a135",
   "metadata": {},
   "outputs": [],
   "source": [
    "# We plot the time taken to produce cuts and add them iteratively versus \n",
    "#finding the eigenvectors of the matrix"
   ]
  },
  {
   "cell_type": "markdown",
   "id": "acbd8218",
   "metadata": {},
   "source": [
    "<h3>Functions<h3>"
   ]
  },
  {
   "cell_type": "code",
   "execution_count": null,
   "id": "26038cdd",
   "metadata": {},
   "outputs": [],
   "source": [
    "#function to compare the methods of creating cuts vs our eigenRelaxation\n",
    "#For these experiments, we set the number of generated cuts to n, the size of the graph\n",
    "# we measure the time taken to generate the n cuts using either the eigenDecomposition\n",
    "# and the LPs.\n",
    "# for the matrices, we simply use a matrix with normal (0,20) entries.\n",
    "# We measure only the time required to solve the optimization programs, and not the time \n",
    "# taken by JUMP to formulate them.\n",
    "function compareTimes(maxGraphSizes,targetSparcity,sampleSize)\n",
    "    len = length(10:5:maxGraphSizes)\n",
    "    results = zeros(5,len)\n",
    "    count = 1\n",
    "for i in 10:5:maxGraphSizes\n",
    "        meanTimeLPcuts = zeros(sampleSize)  \n",
    "        meanTimeEigen =  zeros(sampleSize)\n",
    "            B = rand(Normal(0,20),i,i)\n",
    "            currentGraph=  (1/(i-1))*B*transpose(B)\n",
    "                \n",
    "       results[1,count]=i\n",
    "        \n",
    "        for j in 1:sampleSize\n",
    "        meanTimeLPcuts[j]= iterativeLptime(currentGraph,targetSparcity)\n",
    "        meanTimeEigen[j] =     EigenLptime(currentGraph,targetSparcity)\n",
    "      \n",
    "        end\n",
    "         results[2,count]= mean(meanTimeLPcuts)\n",
    "       results[3,count]= std(meanTimeLPcuts)\n",
    "        results[4,count] = mean(meanTimeEigen)\n",
    "          results[5,count] = std(meanTimeEigen)\n",
    "       count = count+1\n",
    "    end\n",
    "        return(results)\n",
    "end\n",
    "\n",
    "\n",
    "\n",
    "# measures the time taken to iteratively solve the SDP    \n",
    "function iterativeLptime(adjMatrix,targetSparcity)\n",
    "        \n",
    "         n = size(adjMatrix)[1]\n",
    "    m = Model(Mosek.Optimizer)\n",
    "    set_silent(m)\n",
    "      @variable(m,X[1:n,1:n],Symmetric ) \n",
    "      @constraint(m,tr(X)==1)\n",
    "      @variable(m,Y[1:n,1:n],Symmetric)  \n",
    "          @constraint(m,Y.>=X )\n",
    "           @constraint(m,Y.>=-X )\n",
    "           @constraint(m,sum(Y)<=targetSparcity)\n",
    "         @objective(m,Max,tr(adjMatrix*X))\n",
    "         status = optimize!(m)\n",
    "    timetoSolveLp = solve_time(m)\n",
    "   for s in 1:n\n",
    "      maxEigVecto = eigen(value.(X)).vectors[:,1]\n",
    "      @constraint(m, transpose(maxEigVecto)*X*maxEigVecto>=0)  \n",
    "      status = optimize!(m)\n",
    "      timetoSolveLp = timetoSolveLp + solve_time(m) \n",
    "            \n",
    "        end\n",
    "        return(timetoSolveLp)\n",
    "    end\n",
    "            \n",
    "function EigenLptime(adjMatrix,targetSparcity)\n",
    "        \n",
    "         n = size(adjMatrix)[1]\n",
    "    m = Model(Mosek.Optimizer)\n",
    "    set_silent(m)\n",
    "       @variable(m,X[1:n,1:n],Symmetric ) \n",
    "      @constraint(m,tr(X)==1)\n",
    "      @variable(m,Y[1:n,1:n],Symmetric)  \n",
    "          @constraint(m,Y.>=X )\n",
    "           @constraint(m,Y.>=-X )\n",
    "           @constraint(m,sum(Y)<=targetSparcity)\n",
    "    timeSolveEigen = @elapsed eigeVectors =  eigen(adjMatrix).vectors\n",
    "        \n",
    "        \n",
    "   for s in 1:n\n",
    "      EigVecto =eigeVectors[:,s]\n",
    "      @constraint(m, transpose(EigVecto)*X*EigVecto>=0)  \n",
    "        end\n",
    "      status = optimize!(m)\n",
    "      timeSolveEigen = timeSolveEigen + solve_time(m) \n",
    "            \n",
    "        return(timeSolveEigen)\n",
    "    end\n",
    "    \n",
    "    "
   ]
  },
  {
   "cell_type": "markdown",
   "id": "9af2cd9c",
   "metadata": {},
   "source": [
    "<h3>Compute values<h3>"
   ]
  },
  {
   "cell_type": "code",
   "execution_count": null,
   "id": "7e2f2f2d",
   "metadata": {},
   "outputs": [],
   "source": [
    "timeResults = compareTimes(100,10,5)\n"
   ]
  },
  {
   "cell_type": "markdown",
   "id": "54fd507b",
   "metadata": {},
   "source": [
    "<h3>Plot Results<h3>"
   ]
  },
  {
   "cell_type": "code",
   "execution_count": null,
   "id": "d6ce84fd",
   "metadata": {},
   "outputs": [],
   "source": [
    "p= plot(timeResults[1,:],timeResults[2,:],marker=(:square, 3, 1.), label =(\"Linear cuts\"),legend=:topleft,xaxis =\"size of matrix\",yaxis=\"time in seconds\" ,size = (700, 500),linestyle=:dash,yerror =(timeResults[3,:],timeResults[3,:]),colour=\"black\"  )\n",
    "plot!(timeResults[1,:],timeResults[4,:],marker=(:diamond, 3, 1.), label =(\"Eigen cuts\"),legend=:topleft,xaxis =\"size of matrix\",yaxis=\"time in seconds\" ,size = (700, 500),linestyle=:dash,yerror =(timeResults[5,:],timeResults[5,:]),colour=\"black\"  )\n",
    "\n"
   ]
  },
  {
   "cell_type": "code",
   "execution_count": null,
   "id": "6269b554",
   "metadata": {},
   "outputs": [],
   "source": []
  },
  {
   "cell_type": "markdown",
   "id": "94ca90cb",
   "metadata": {},
   "source": [
    "<h2>4. Code for table 6 <h2>"
   ]
  },
  {
   "cell_type": "markdown",
   "id": "24c9c0c1",
   "metadata": {},
   "source": [
    "<h2>Recovery of sparse components: Synthetic experiments.<h2>"
   ]
  },
  {
   "cell_type": "code",
   "execution_count": null,
   "id": "b5f50bce",
   "metadata": {},
   "outputs": [],
   "source": [
    "# Recovery of sparse components using the sdp and the linear relaxation on a synthetic experiment.\n",
    "# This is the same experiment as in \"A direct formulation for sparse PCA\n",
    "#using semidefinite programming\" by D'aspermont et al."
   ]
  },
  {
   "cell_type": "code",
   "execution_count": null,
   "id": "6a7594ad",
   "metadata": {},
   "outputs": [],
   "source": [
    "#Define the true covariance matrix \n",
    "\n",
    "TrueCov = [290^2 290^2 290^2 290^2 0 0 0 0 -0.3*290^2 -0.3*290^2; 290^2 290^2 290^2 290^2 0 0 0 0 -0.3*290^2 -0.3*290^2;\n",
    "    290^2 290^2 290^2 290^2 0 0 0 0 -0.3*290^2 -0.3*290^2; 290^2 290^2 290^2 290^2 0 0 0 0 -0.3*290^2 -0.3*290^2; 0 0 0 0 300^2 300^2 300^2 300^2  0.925*300^2 0.925*300^2; 0 0 0 0 300^2 300^2 300^2 300^2  0.925*300^2 0.925*300^2\n",
    "; 0 0 0 0 300^2 300^2 300^2 300^2  0.925*300^2 0.925*300^2;0 0 0 0 300^2 300^2 300^2 300^2  0.925*300^2 0.925*300^2;  -0.3*290^2 -0.3*290^2 -0.3*290^2 -0.3*290^2 0.925*300^2 0.925*300^2 0.925*300^2 0.925*300^2  (290^2)*(0.3^2)+(300^2)*(0.925)^2 (290^2)*(0.3^2)+(300^2)*(0.925)^2;\n",
    "-0.3*290^2 -0.3*290^2 -0.3*290^2 -0.3*290^2 0.925*300^2 0.925*300^2 0.925*300^2 0.925*300^2  (290^2)*(0.3^2)+(300^2)*(0.925)^2 (290^2)*(0.3^2)+(300^2)*(0.925)^2]"
   ]
  },
  {
   "cell_type": "code",
   "execution_count": null,
   "id": "33846f5a",
   "metadata": {},
   "outputs": [],
   "source": [
    "# Check the matrix is symmetric.\n",
    "issymmetric(TrueCov)"
   ]
  },
  {
   "cell_type": "markdown",
   "id": "24e84629",
   "metadata": {},
   "source": [
    "<h3> a. Recovery of sparse components using the semidefinite program for sparse PCA<h3>"
   ]
  },
  {
   "cell_type": "code",
   "execution_count": null,
   "id": "1cbbfcc9",
   "metadata": {},
   "outputs": [],
   "source": [
    "SdpSol =SdpSparsePCA(TrueCov,4)[1]\n",
    "firstPcSdp = eigen(SdpSol).vectors[:,10]\n"
   ]
  },
  {
   "cell_type": "code",
   "execution_count": null,
   "id": "94864d3d",
   "metadata": {},
   "outputs": [],
   "source": [
    "#Deflate the matrix to obtain next sparse component\n",
    "deflated = TrueCov-(transpose(firstPcSdp)*TrueCov*firstPcSdp)*firstPcSdp*transpose(firstPcSdp)\n",
    "sdpSol2 =SdpSparsePCA(deflated,4)[1]\n",
    "secondPcSdp =eigen(sdpSol2).vectors[:,10]"
   ]
  },
  {
   "cell_type": "markdown",
   "id": "47ff37e3",
   "metadata": {},
   "source": [
    "<h3>b. Recovery of sparse components using the linear relaxation for sparse PCA<h3>\n"
   ]
  },
  {
   "cell_type": "code",
   "execution_count": null,
   "id": "fbb259b4",
   "metadata": {},
   "outputs": [],
   "source": [
    " linearSol=EigenRelSparsePCA(TrueCov,4)[1]"
   ]
  },
  {
   "cell_type": "code",
   "execution_count": null,
   "id": "876d1b07",
   "metadata": {},
   "outputs": [],
   "source": [
    " LinearSolFirstPc =eigen(linearSol).vectors[:,10]"
   ]
  },
  {
   "cell_type": "code",
   "execution_count": null,
   "id": "cefad344",
   "metadata": {},
   "outputs": [],
   "source": [
    "#Deflate the matrix to obtain next sparse component\n",
    "deflatedCovLinear = TrueCov-(transpose(LinearSolFirstPc)*TrueCov*LinearSolFirstPc)*LinearSolFirstPc*transpose(LinearSolFirstPc)\n",
    "deflatedCovLinear = round.(deflatedCovLinear,digits=5)\n",
    "LinearSol2 =EigenRelSparsePCA(deflatedCovLinear,4)[1]\n",
    "LinearSolSecondPc =eigen(LinearSol2).vectors[:,10]"
   ]
  },
  {
   "cell_type": "code",
   "execution_count": null,
   "id": "53bd5c64",
   "metadata": {},
   "outputs": [],
   "source": []
  },
  {
   "cell_type": "markdown",
   "id": "18f9eda0",
   "metadata": {},
   "source": [
    "<h2>5. Code for Table  7<h2>"
   ]
  },
  {
   "cell_type": "code",
   "execution_count": null,
   "id": "d0ae3c77",
   "metadata": {},
   "outputs": [],
   "source": [
    "#Computation of sparse components using the semidefinite relaxation and the linear relaxation"
   ]
  },
  {
   "cell_type": "code",
   "execution_count": null,
   "id": "68fffa8c",
   "metadata": {},
   "outputs": [],
   "source": [
    "#Pitprops dataset"
   ]
  },
  {
   "cell_type": "code",
   "execution_count": null,
   "id": "bd5b486c",
   "metadata": {},
   "outputs": [],
   "source": [
    "# load the covariance matrix for the pitpros dataset\n",
    "data = [1,0.954,0.364,0.342,-0.129,0.313,0.496,0.424,0.592,0.545,0.084,-0.019,0.134,\n",
    "0.954,1,0.297,0.284,-0.118,0.291,0.503,0.419,0.648,0.569,0.076,-0.036,0.144,\n",
    "0.364,0.297,1,0.882,-0.148,0.153,-0.029,-0.054,0.125,-0.081,0.162,0.22,0.126,\n",
    "0.342,0.284,0.882,1,0.22,0.381,0.174,-0.059,0.137,-0.014,0.097,0.169,0.015,\n",
    "-0.129,-0.118,-0.148,0.22,1,0.364,0.296,0.004,-0.039,0.037,-0.091,-0.145,-0.208,\n",
    "0.313,0.291,0.153,0.381,0.364,1,0.813,0.09,0.211,0.274,-0.036,0.024,-0.329,\n",
    "0.496,0.503,-0.029,0.174,0.296,0.813,1,0.372,0.465,0.679,-0.113,-0.232,-0.424,\n",
    "0.424,0.419,-0.054,-0.059,0.004,0.09,0.372,1,0.482,0.557,0.061,-0.357,-0.202,\n",
    "0.592,0.648,0.125,0.137,-0.039,0.211,0.465,0.482,1,0.526,0.085,-0.127,-0.076,\n",
    "0.545,0.569,-0.081,-0.014,0.037,0.274,0.679,0.557,0.526,1,-0.319,-0.368,-0.291,\n",
    "0.084,0.076,0.162,0.097,-0.091,-0.036,-0.113,0.061,0.085,-0.319,1,0.029,0.007,\n",
    "-0.019,-0.036,0.22,0.169,-0.145,0.024,-0.232,-0.357,-0.127,-0.368,0.029,1,0.184,\n",
    "0.134,0.144,0.126,0.015,-0.208,-0.329,-0.424,-0.202,-0.076,-0.291,0.007,0.184,1]\n",
    "data = reshape(data,13,13)"
   ]
  },
  {
   "cell_type": "markdown",
   "id": "0ee13932",
   "metadata": {},
   "source": [
    "<h3>a. Recovery of sparse components using the semidefintie program for sparse PCA<h3>"
   ]
  },
  {
   "cell_type": "code",
   "execution_count": null,
   "id": "0ab8ca2a",
   "metadata": {},
   "outputs": [],
   "source": [
    "# First component, k= 5\n",
    "SdpSolProps=SdpSparsePCA(data,5)[1]\n",
    "SparseEigenVectorSdpSol =eigen(SdpSolProps).vectors \n",
    "firstPCsdp = SparseEigenVectorSdpSol[:,13]"
   ]
  },
  {
   "cell_type": "code",
   "execution_count": null,
   "id": "64563863",
   "metadata": {},
   "outputs": [],
   "source": [
    "#second component, k=2\n",
    "deflate1 = data-(transpose(firstPCsdp)*data*firstPCsdp)*firstPCsdp*transpose(firstPCsdp)\n",
    "secondPcMatrix = SdpSparsePCA(deflate1,2)[1]\n",
    "secondPcSdp = eigen(secondPcMatrix).vectors[:,13]"
   ]
  },
  {
   "cell_type": "code",
   "execution_count": null,
   "id": "956e53e2",
   "metadata": {},
   "outputs": [],
   "source": [
    "#Third component, k = 2\n",
    "deflate2 = deflate1-(transpose(secondPcSdp)*deflate1*secondPcSdp)*secondPcSdp*transpose(secondPcSdp)\n",
    "thirdPcMatrix = SdpSparsePCA(deflate2,2)[1]\n",
    "thirdPcSdp = eigen(thirdPcMatrix).vectors[:,13]"
   ]
  },
  {
   "cell_type": "markdown",
   "id": "7409b44f",
   "metadata": {},
   "source": [
    "<h3>b. Recovery of sparse components using the linear relaxation for sparse PCA<h3>"
   ]
  },
  {
   "cell_type": "code",
   "execution_count": null,
   "id": "9a7107f7",
   "metadata": {},
   "outputs": [],
   "source": [
    "#First component, k=5 \n",
    "linearProp=EigenRelSparsePCA(data,5)[1]\n",
    "firstLinearPc = eigen(linearProp).vectors[:,13]\n"
   ]
  },
  {
   "cell_type": "code",
   "execution_count": null,
   "id": "da11b980",
   "metadata": {},
   "outputs": [],
   "source": [
    "#second component, k=2\n",
    "deflate1Linear = data-(transpose(firstLinearPc)*data*firstLinearPc)*firstLinearPc*transpose(firstLinearPc)\n",
    "secondPcMatrixLinear = EigenRelSparsePCA(deflate1Linear,2)[1]\n",
    "secondPcMatrixLinear = round.(secondPcMatrixLinear,digits=5)\n",
    "secondPcLinear = eigen(secondPcMatrixLinear).vectors[:,13]"
   ]
  },
  {
   "cell_type": "code",
   "execution_count": null,
   "id": "0c719a3d",
   "metadata": {},
   "outputs": [],
   "source": [
    "#Third  component, k = 2\n",
    "deflate2Linear = deflate1Linear-(transpose(secondPcLinear)*deflate1Linear*secondPcLinear)*secondPcLinear*transpose(secondPcLinear)\n",
    "ThirdPcMatrixLinear = EigenRelSparsePCA(deflate2Linear,2)[1]\n",
    "ThirdPcMatrixLinear = round.(ThirdPcMatrixLinear,digits=5)\n",
    "ThirdPcLinear = eigen(ThirdPcMatrixLinear).vectors[:,13]"
   ]
  }
 ],
 "metadata": {
  "kernelspec": {
   "display_name": "Julia 1.7.3",
   "language": "julia",
   "name": "julia-1.7"
  },
  "language_info": {
   "file_extension": ".jl",
   "mimetype": "application/julia",
   "name": "julia",
   "version": "1.7.3"
  }
 },
 "nbformat": 4,
 "nbformat_minor": 5
}
