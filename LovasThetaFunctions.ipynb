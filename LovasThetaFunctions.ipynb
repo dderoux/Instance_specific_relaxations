{
 "cells": [
  {
   "cell_type": "code",
   "execution_count": null,
   "id": "1b1a84f8",
   "metadata": {},
   "outputs": [],
   "source": [
    "#In this notebook we implement the methods used to compute the lovasz Theta number of a graph\n",
    "# using the usual semidefinite formulation, and to compute the corresponding linear relaxation.\n",
    "#relaxations of sparce pca. This notebook corresponds to section 4.3 \n",
    "#of the paper"
   ]
  },
  {
   "cell_type": "markdown",
   "id": "30733cfb",
   "metadata": {},
   "source": [
    "<h1>functions to compute the Lovasz Theta number SDP and its linear relaxation<h1>"
   ]
  },
  {
   "cell_type": "code",
   "execution_count": null,
   "id": "0d2bd457",
   "metadata": {},
   "outputs": [],
   "source": []
  },
  {
   "cell_type": "code",
   "execution_count": null,
   "id": "89e54a30",
   "metadata": {},
   "outputs": [],
   "source": []
  },
  {
   "cell_type": "markdown",
   "id": "e26e63fc",
   "metadata": {},
   "source": [
    "<h2>Table of contents: <h2>   \n",
    "    0. Functions, load packages.<br>"
   ]
  },
  {
   "cell_type": "code",
   "execution_count": null,
   "id": "2a066bcf",
   "metadata": {},
   "outputs": [],
   "source": []
  },
  {
   "cell_type": "markdown",
   "id": "e564c7b4",
   "metadata": {},
   "source": [
    "<h3>0. Functions, load packages.<br><h3>"
   ]
  },
  {
   "cell_type": "code",
   "execution_count": null,
   "id": "9551a979",
   "metadata": {},
   "outputs": [],
   "source": [
    "#Packages \n",
    "using JuMP,LinearAlgebra,MosekTools"
   ]
  },
  {
   "cell_type": "code",
   "execution_count": 2,
   "id": "e46383f9",
   "metadata": {},
   "outputs": [
    {
     "data": {
      "text/plain": [
       "lovazTheta (generic function with 1 method)"
      ]
     },
     "execution_count": 2,
     "metadata": {},
     "output_type": "execute_result"
    }
   ],
   "source": [
    "#function to compute the lovasTheta number of a graph with adjacency matrix A. \n",
    "#We use the usual semidefinite formulation for this problem. \n",
    "#@ matrix A: adjancency matrix of the graph for which to compute the Theta number.\n",
    "function lovazTheta(A)\n",
    "n = size(A)[1]\n",
    "    m = Model(Mosek.Optimizer)\n",
    "    set_silent(m)\n",
    "          @variable(m,X[1:n,1:n],PSD ) \n",
    "      @constraint(m,tr(X)==1)\n",
    "      J = ones(n)*transpose(ones(n))\n",
    "      for i in 1:n\n",
    "        for j in 1:i \n",
    "            if A[i,j]== 1\n",
    "    @constraint(m,X[i,j]==0)\n",
    "    @constraint(m,X[j,i]==0)\n",
    "            end\n",
    "        end\n",
    "    end\n",
    "            \n",
    "    @objective(m,Max,tr(J*X))\n",
    "      status = optimize!(m)\n",
    "    return(value.(X),objective_value(m))\n",
    "end\n",
    " "
   ]
  },
  {
   "cell_type": "code",
   "execution_count": 18,
   "id": "af66eac9",
   "metadata": {},
   "outputs": [
    {
     "data": {
      "text/plain": [
       "lovazThetaLP (generic function with 1 method)"
      ]
     },
     "execution_count": 18,
     "metadata": {},
     "output_type": "execute_result"
    }
   ],
   "source": [
    "#function to compute the linear relaxation of the lovasz Theta number of a graph with adjacency matrix A. \n",
    "#@ matrix A: adjancency matrix of the graph for which to compute the linear relaxation.\n",
    "function lovazThetaLP(A)\n",
    "\n",
    "n = size(A)[1]\n",
    "    m = Model(Mosek.Optimizer)\n",
    "    set_silent(m)\n",
    "          @variable(m,-1<=X[1:n,1:n]<=1,Symmetric ) \n",
    "      @constraint(m,tr(X)==1)\n",
    "      J = ones(n)*transpose(ones(n))\n",
    "    \n",
    "     eigenFacto =  eigen(J-A)\n",
    "    eigenVectors = eigenFacto.vectors\n",
    "    eigenVectors = hcat(eigenVectors,eigen(A).vectors)\n",
    "    eigenVectors = hcat(eigenVectors,Matrix{Float64}(I, n, n))\n",
    "    eigenVectors = hcat(eigenVectors,eigen(J).vectors)\n",
    "       for i in 1: size(eigenVectors)[2]\n",
    "        v =  eigenVectors[:,i]\n",
    "        @constraint(m,transpose(v)*X*v >=0)\n",
    "    end\n",
    "    for i in 1:n\n",
    "        @constraint(m,X[i,i]>=0)\n",
    "        for j in 1:i \n",
    "            if A[i,j]== 1\n",
    "    @constraint(m,X[i,j]==0)\n",
    "    @constraint(m,X[j,i]==0)\n",
    "            end\n",
    "        end\n",
    "    end\n",
    "    \n",
    " #    for i in 1:n\n",
    " #        for j in 1:n\n",
    " #           @constraint(m,[X[i,i]+X[j,j];2*X[i,j];X[i,i]-X[j,j]] in SecondOrderCone())\n",
    " #       end\n",
    " #   end\n",
    "    \n",
    "    @objective(m,Max,tr((J-A)*X))\n",
    "      status = optimize!(m)\n",
    "    return(value.(X),objective_value(m))\n",
    "end\n"
   ]
  },
  {
   "cell_type": "code",
   "execution_count": null,
   "id": "42e481fb",
   "metadata": {},
   "outputs": [],
   "source": []
  }
 ],
 "metadata": {
  "kernelspec": {
   "display_name": "Julia 1.7.3",
   "language": "julia",
   "name": "julia-1.7"
  },
  "language_info": {
   "file_extension": ".jl",
   "mimetype": "application/julia",
   "name": "julia",
   "version": "1.7.3"
  }
 },
 "nbformat": 4,
 "nbformat_minor": 5
}
